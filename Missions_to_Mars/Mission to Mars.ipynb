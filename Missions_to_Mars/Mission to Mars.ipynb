{
 "cells": [
  {
   "cell_type": "markdown",
   "metadata": {},
   "source": [
    "# Web Scraping Challenge\n",
    "\n",
    "### By: Carlos Casio"
   ]
  },
  {
   "cell_type": "code",
   "execution_count": 1,
   "metadata": {},
   "outputs": [],
   "source": [
    "# Import dependencies\n",
    "from splinter import Browser\n",
    "from bs4 import BeautifulSoup as bs\n",
    "from webdriver_manager.chrome import ChromeDriverManager\n",
    "import requests\n",
    "import pandas as pd\n",
    "import time"
   ]
  },
  {
   "cell_type": "code",
   "execution_count": 2,
   "metadata": {
    "scrolled": false
   },
   "outputs": [
    {
     "name": "stderr",
     "output_type": "stream",
     "text": [
      "[WDM] - Current google-chrome version is 87.0.4280\n",
      "[WDM] - Get LATEST driver version for 87.0.4280\n"
     ]
    },
    {
     "name": "stdout",
     "output_type": "stream",
     "text": [
      " \n"
     ]
    },
    {
     "name": "stderr",
     "output_type": "stream",
     "text": [
      "[WDM] - Driver [C:\\Users\\Carlo\\.wdm\\drivers\\chromedriver\\win32\\87.0.4280.88\\chromedriver.exe] found in cache\n"
     ]
    }
   ],
   "source": [
    "# Executing empty browser with ChromeDriveManager\n",
    "executable_path = {\"executable_path\": ChromeDriverManager().install()}\n",
    "browser = Browser(\"chrome\", **executable_path, headless=False)"
   ]
  },
  {
   "cell_type": "code",
   "execution_count": 3,
   "metadata": {},
   "outputs": [],
   "source": [
    "# Creating the dictionary to be used to store everything\n",
    "main_dict = {}"
   ]
  },
  {
   "cell_type": "markdown",
   "metadata": {},
   "source": [
    "## Nasa Mars News"
   ]
  },
  {
   "cell_type": "code",
   "execution_count": 4,
   "metadata": {},
   "outputs": [],
   "source": [
    "# Visiting the first site and extracting the html code for the webpage. \n",
    "# The site was loading too fast so I added a match check for a list element, since all the news are listed on these classes.\n",
    "# After it loads, we can continue\n",
    "paragraph = \"\"\n",
    "# Repeating process for the paragraph string because the first time it fails in load the complete code\n",
    "while paragraph == \"\":\n",
    "    browser.visit(\"https://mars.nasa.gov/news/?page=0&per_page=40&order=publish_date+desc%2Ccreated_at+desc&search=&category=19%2C165%2C184%2C204&blank_scope=Latest\")\n",
    "    browser.is_element_present_by_tag('LI', wait_time=10)\n",
    "    html = browser.html\n",
    "    soup = bs(html, \"html.parser\")\n",
    "\n",
    "    # Storing First image, header and brief from the first News element.\n",
    "    # We get the second [1] element for the header because the first one with the same class is not related to any News\n",
    "    try:\n",
    "        Header = soup.find_all(\"div\",class_=\"content_title\")[1].text.strip()\n",
    "        paragraph =  soup.find(\"div\",class_=\"article_teaser_body\").text.strip()\n",
    "        # For the image to work, the prefix is needed so we can join both strings\n",
    "        mainpage = \"mars.nasa.gov\"\n",
    "        img = mainpage + soup.find(\"div\",class_=\"list_image\").find(\"img\")[\"src\"]\n",
    "    except:\n",
    "        paragraph = \"\""
   ]
  },
  {
   "cell_type": "code",
   "execution_count": 5,
   "metadata": {
    "scrolled": true
   },
   "outputs": [
    {
     "data": {
      "text/plain": [
       "'MOXIE Could Help Future Rockets Launch Off Mars'"
      ]
     },
     "execution_count": 5,
     "metadata": {},
     "output_type": "execute_result"
    }
   ],
   "source": [
    "main_dict[\"news_header\"] = Header\n",
    "Header"
   ]
  },
  {
   "cell_type": "code",
   "execution_count": 6,
   "metadata": {},
   "outputs": [
    {
     "data": {
      "text/plain": [
       "\"NASA's Perseverance rover carries a device to convert Martian air into oxygen that, if produced on a larger scale, could be used not just for breathing, but also for fuel.\""
      ]
     },
     "execution_count": 6,
     "metadata": {},
     "output_type": "execute_result"
    }
   ],
   "source": [
    "main_dict[\"news_p\"] = paragraph\n",
    "paragraph"
   ]
  },
  {
   "cell_type": "code",
   "execution_count": 7,
   "metadata": {},
   "outputs": [
    {
     "data": {
      "text/plain": [
       "'mars.nasa.gov/system/news_items/list_view_images/8805_1-MOXIE-PIA24176-320.gif'"
      ]
     },
     "execution_count": 7,
     "metadata": {},
     "output_type": "execute_result"
    }
   ],
   "source": [
    "main_dict[\"news_img\"] = img\n",
    "img"
   ]
  },
  {
   "cell_type": "markdown",
   "metadata": {},
   "source": [
    "## JPL Mars Space Images - Featured Image"
   ]
  },
  {
   "cell_type": "code",
   "execution_count": 8,
   "metadata": {},
   "outputs": [],
   "source": [
    "# Visiting the second browser and storing the html code\n",
    "browser.visit(\"https://www.jpl.nasa.gov/spaceimages/?search=&category=Mars\")\n",
    "html = browser.html\n",
    "soup = bs(html, \"html.parser\")"
   ]
  },
  {
   "cell_type": "code",
   "execution_count": 9,
   "metadata": {},
   "outputs": [],
   "source": [
    "# Again, we need the main webpage to get the the complete url for the image working.\n",
    "jpl_mainpage = \"jpl.nasa.gov\"\n",
    "\n",
    "# We get the a tag with a unique id, and then we extract the first element containing the href link\n",
    "featured_image = soup.find_all(\"a\", id=\"full_image\")\n",
    "featured_image = jpl_mainpage + featured_image[0][\"data-fancybox-href\"]"
   ]
  },
  {
   "cell_type": "code",
   "execution_count": 10,
   "metadata": {},
   "outputs": [
    {
     "data": {
      "text/plain": [
       "'jpl.nasa.gov/spaceimages/images/mediumsize/PIA19046_ip.jpg'"
      ]
     },
     "execution_count": 10,
     "metadata": {},
     "output_type": "execute_result"
    }
   ],
   "source": [
    "main_dict[\"ft_img\"] = featured_image\n",
    "featured_image\n"
   ]
  },
  {
   "cell_type": "markdown",
   "metadata": {},
   "source": [
    "## Mars Weather"
   ]
  },
  {
   "cell_type": "code",
   "execution_count": 11,
   "metadata": {},
   "outputs": [
    {
     "name": "stdout",
     "output_type": "stream",
     "text": [
      "InSight sol 681 (2020-10-25) low -95.4ºC (-139.8ºF) high -4.4ºC (24.0ºF)\n",
      "winds from the WNW at 5.6 m/s (12.6 mph) gusting to 18.6 m/s (41.6 mph)\n",
      "pressure at 7.40 hPa\n"
     ]
    }
   ],
   "source": [
    "# Visiting webpage and extracting html code, I use the method \"is text present\" to check if the \"Insight sol\" string is already\n",
    "# there, meaning all the tweets have been loaded correctly, because I had troubles running the whole cell at once\n",
    "latest_tweet = \"None\"\n",
    "browser.visit(\"https://twitter.com/marswxreport?lang=en\")\n",
    "browser.execute_script(\"window.scrollTo(1, document.body.scrollHeight);\")\n",
    "\n",
    "# Checking if latest_tweet already has the content need, or retrying\n",
    "while latest_tweet == \"None\":\n",
    "    time.sleep(2)\n",
    "    # Scrolling down a bit because the latest tweet with weather data is on the middle of the webpage. So the html code is not \n",
    "    # parsed for that tweet because it has not been loaded.\n",
    "    browser.execute_script(\"window.scrollTo(1, document.body.scrollHeight);\")\n",
    "    html = browser.html\n",
    "    soup = bs(html, \"html.parser\")\n",
    "    # print(soup.prettify())\n",
    "\n",
    "    # I create a list to iterate from all the tags and get the text of them\n",
    "    article_list = []\n",
    "\n",
    "    # Every tweet that contains text has a span tag with a class \"css-901oao\", so first I find all the tags with this specifications\n",
    "    articles = soup.find_all(\"span\", class_=\"css-901oao\")\n",
    "\n",
    "    # Then I loop to obtain the text of each class with that name\n",
    "    for x in articles:\n",
    "        article_list.append(x.text)\n",
    "\n",
    "    for y in article_list:\n",
    "        if y[:11] == \"InSight sol\":\n",
    "            latest_tweet = y\n",
    "            main_dict[\"last_tweet\"] = latest_tweet\n",
    "            print(latest_tweet)\n",
    "            break\n",
    "        else:\n",
    "            latest_tweet = \"None\"\n",
    "\n"
   ]
  },
  {
   "cell_type": "markdown",
   "metadata": {},
   "source": [
    "## Mars facts"
   ]
  },
  {
   "cell_type": "code",
   "execution_count": 12,
   "metadata": {},
   "outputs": [],
   "source": [
    "url = \"https://space-facts.com/mars/\"\n",
    "# Obtaining the first table from the website\n",
    "table = pd.read_html(url)[0]\n",
    "# passing the table to an HTML table\n",
    "html_table = table.to_html()\n",
    "# replace the \\n text with nothing so it can be stored on the dictionary\n",
    "html_table.replace(\"\\n\",\"\")\n",
    "main_dict[\"Html_table\"] = html_table"
   ]
  },
  {
   "cell_type": "markdown",
   "metadata": {},
   "source": [
    "## Mars Hemispheres"
   ]
  },
  {
   "cell_type": "code",
   "execution_count": 13,
   "metadata": {},
   "outputs": [],
   "source": [
    "#  Visiting the webpage and getting the HTML code\n",
    "browser.visit(\"https://astrogeology.usgs.gov/search/results?q=hemisphere+enhanced&k1=target&v1=Mars\")\n",
    "html = browser.html\n",
    "soup = bs(html, \"html.parser\")"
   ]
  },
  {
   "cell_type": "code",
   "execution_count": 14,
   "metadata": {},
   "outputs": [],
   "source": [
    "# Getting all the links for the webpage\n",
    "all_links = soup.find_all(\"a\", class_=\"itemLink product-item\")\n",
    "\n",
    "# Since every hemisphere has two equal links (one for the image and one for the title), I iterate to get only the even results: 2, 4, 6 and 8\n",
    "# On every iteration, I go into the browser and get all the results needed.\n",
    "\n",
    "# Enumerating to get iteration number\n",
    "for index, link in enumerate(all_links):\n",
    "    # Checking if iteration is even\n",
    "    if (index % 2) == 0:\n",
    "        varnum = int(index / 2)\n",
    "        # Entering the first link\n",
    "        browser.visit(\"https://astrogeology.usgs.gov\" + link[\"href\"])\n",
    "        \n",
    "        # Saving the html code in soup\n",
    "        html = browser.html\n",
    "        soup = bs(html, \"html.parser\")\n",
    "        \n",
    "        # I use the prefix from the webpage and add it to the find method to get the source and title\n",
    "        main_dict[f\"image{varnum}\"] = \"astrogeology.usgs.gov\" + soup.find(\"img\", class_=\"wide-image\")[\"src\"]\n",
    "        main_dict[f\"title{varnum}\"] = soup.find(\"h2\", class_=\"title\").text\n",
    "#         image = \"astrogeology.usgs.gov\" + soup.find(\"img\", class_=\"wide-image\")[\"src\"]\n",
    "#         title = soup.find(\"h2\", class_=\"title\").text\n",
    "        \n",
    "        # Finally, the values are appended as a dictionary into the list\n",
    "#       hemisphere_image_urls.append({\"title\":title,\"img_url\":image})\n",
    "        browser.visit(\"https://astrogeology.usgs.gov/search/results?q=hemisphere+enhanced&k1=target&v1=Mars\")"
   ]
  },
  {
   "cell_type": "code",
   "execution_count": 15,
   "metadata": {},
   "outputs": [
    {
     "data": {
      "text/plain": [
       "{'news_header': 'MOXIE Could Help Future Rockets Launch Off Mars',\n",
       " 'news_p': \"NASA's Perseverance rover carries a device to convert Martian air into oxygen that, if produced on a larger scale, could be used not just for breathing, but also for fuel.\",\n",
       " 'news_img': 'mars.nasa.gov/system/news_items/list_view_images/8805_1-MOXIE-PIA24176-320.gif',\n",
       " 'ft_img': 'jpl.nasa.gov/spaceimages/images/mediumsize/PIA19046_ip.jpg',\n",
       " 'last_tweet': 'InSight sol 681 (2020-10-25) low -95.4ºC (-139.8ºF) high -4.4ºC (24.0ºF)\\nwinds from the WNW at 5.6 m/s (12.6 mph) gusting to 18.6 m/s (41.6 mph)\\npressure at 7.40 hPa',\n",
       " 'Html_table': '<table border=\"1\" class=\"dataframe\">\\n  <thead>\\n    <tr style=\"text-align: right;\">\\n      <th></th>\\n      <th>0</th>\\n      <th>1</th>\\n    </tr>\\n  </thead>\\n  <tbody>\\n    <tr>\\n      <th>0</th>\\n      <td>Equatorial Diameter:</td>\\n      <td>6,792 km</td>\\n    </tr>\\n    <tr>\\n      <th>1</th>\\n      <td>Polar Diameter:</td>\\n      <td>6,752 km</td>\\n    </tr>\\n    <tr>\\n      <th>2</th>\\n      <td>Mass:</td>\\n      <td>6.39 × 10^23 kg (0.11 Earths)</td>\\n    </tr>\\n    <tr>\\n      <th>3</th>\\n      <td>Moons:</td>\\n      <td>2 (Phobos &amp; Deimos)</td>\\n    </tr>\\n    <tr>\\n      <th>4</th>\\n      <td>Orbit Distance:</td>\\n      <td>227,943,824 km (1.38 AU)</td>\\n    </tr>\\n    <tr>\\n      <th>5</th>\\n      <td>Orbit Period:</td>\\n      <td>687 days (1.9 years)</td>\\n    </tr>\\n    <tr>\\n      <th>6</th>\\n      <td>Surface Temperature:</td>\\n      <td>-87 to -5 °C</td>\\n    </tr>\\n    <tr>\\n      <th>7</th>\\n      <td>First Record:</td>\\n      <td>2nd millennium BC</td>\\n    </tr>\\n    <tr>\\n      <th>8</th>\\n      <td>Recorded By:</td>\\n      <td>Egyptian astronomers</td>\\n    </tr>\\n  </tbody>\\n</table>',\n",
       " 'image0': 'astrogeology.usgs.gov/cache/images/f5e372a36edfa389625da6d0cc25d905_cerberus_enhanced.tif_full.jpg',\n",
       " 'title0': 'Cerberus Hemisphere Enhanced',\n",
       " 'image1': 'astrogeology.usgs.gov/cache/images/3778f7b43bbbc89d6e3cfabb3613ba93_schiaparelli_enhanced.tif_full.jpg',\n",
       " 'title1': 'Schiaparelli Hemisphere Enhanced',\n",
       " 'image2': 'astrogeology.usgs.gov/cache/images/555e6403a6ddd7ba16ddb0e471cadcf7_syrtis_major_enhanced.tif_full.jpg',\n",
       " 'title2': 'Syrtis Major Hemisphere Enhanced',\n",
       " 'image3': 'astrogeology.usgs.gov/cache/images/b3c7c6c9138f57b4756be9b9c43e3a48_valles_marineris_enhanced.tif_full.jpg',\n",
       " 'title3': 'Valles Marineris Hemisphere Enhanced'}"
      ]
     },
     "execution_count": 15,
     "metadata": {},
     "output_type": "execute_result"
    }
   ],
   "source": [
    "# Checking the results\n",
    "main_dict"
   ]
  },
  {
   "cell_type": "code",
   "execution_count": 16,
   "metadata": {},
   "outputs": [],
   "source": [
    "# Exiting the browser\n",
    "browser.quit()"
   ]
  }
 ],
 "metadata": {
  "kernelspec": {
   "display_name": "Python 3",
   "language": "python",
   "name": "python3"
  },
  "language_info": {
   "codemirror_mode": {
    "name": "ipython",
    "version": 3
   },
   "file_extension": ".py",
   "mimetype": "text/x-python",
   "name": "python",
   "nbconvert_exporter": "python",
   "pygments_lexer": "ipython3",
   "version": "3.8.3"
  }
 },
 "nbformat": 4,
 "nbformat_minor": 4
}
